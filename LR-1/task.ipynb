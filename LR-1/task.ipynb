{
 "cells": [
  {
   "cell_type": "markdown",
   "metadata": {},
   "source": [
    "### Лабораторная работа №1. Основы машинного обучения"
   ]
  },
  {
   "cell_type": "code",
   "execution_count": 1,
   "metadata": {},
   "outputs": [],
   "source": [
    "import os\n",
    "import io\n",
    "import random\n",
    "import tarfile\n",
    "import numpy as np\n",
    "from PIL import Image\n",
    "import matplotlib.pyplot as plt\n",
    "from collections import defaultdict\n",
    "from sklearn.metrics import accuracy_score\n",
    "from sklearn.linear_model import LogisticRegression\n",
    "\n",
    "tar_path = 'notMNIST_large.tar.gz'\n",
    "tar_general_dir = 'notMNIST_large'"
   ]
  },
  {
   "cell_type": "markdown",
   "metadata": {},
   "source": [
    "**Задание 1.** Загрузите данные и отобразите на экране несколько из изображений с помощью языка Python"
   ]
  },
  {
   "cell_type": "code",
   "execution_count": 2,
   "metadata": {},
   "outputs": [
    {
     "data": {
      "image/png": "[encoded data removed]",
      "text/plain": [
       "<Figure size 640x480 with 1 Axes>"
      ]
     },
     "metadata": {},
     "output_type": "display_data"
    }
   ],
   "source": [
    "with tarfile.open(tar_path, 'r') as tar:\n",
    "    image_files = tar.getmembers()\n",
    "    \n",
    "    for image_file in image_files[:3]:\n",
    "        extracted_file = tar.extractfile(image_file)\n",
    "        if extracted_file:\n",
    "            image = Image.open(io.BytesIO(extracted_file.read()))\n",
    "            plt.imshow(image)\n",
    "            plt.axis('off')\n",
    "            plt.show()\n"
   ]
  },
  {
   "cell_type": "markdown",
   "metadata": {},
   "source": [
    "**Задание 2.** Проверьте, что классы являются сбалансированными, т.е. количество изображений, принадлежащих каждому из классов, примерно одинаково (В данной задаче 10 классов)."
   ]
  },
  {
   "cell_type": "markdown",
   "metadata": {},
   "source": [
    "Изображения в архиве с выборкой помещены в 10 папок, каждая из которых соответствует своему классу, следовательно, задача сводится к подсчету изображений в каждой из папок"
   ]
  },
  {
   "cell_type": "code",
   "execution_count": 3,
   "metadata": {},
   "outputs": [
    {
     "name": "stdout",
     "output_type": "stream",
     "text": [
      "Класс A: 52912 объектов\n",
      "Класс B: 52912 объектов\n",
      "Класс C: 52912 объектов\n",
      "Класс D: 52912 объектов\n",
      "Класс E: 52912 объектов\n",
      "Класс F: 52912 объектов\n",
      "Класс G: 52912 объектов\n",
      "Класс H: 52912 объектов\n",
      "Класс I: 52912 объектов\n",
      "Класс J: 52911 объектов\n",
      "Общее количество: 529119 объектов\n"
     ]
    }
   ],
   "source": [
    "folder_counts = defaultdict(int)\n",
    "general_size = 0\n",
    "\n",
    "with tarfile.open(tar_path, 'r:gz') as tar:\n",
    "    for member in tar.getmembers():\n",
    "        if member.isfile():\n",
    "            parts = member.name.split('/')\n",
    "            if len(parts) > 1 and parts[0] == tar_general_dir:\n",
    "                folder_name = parts[1]\n",
    "                if folder_name in 'ABCDEFGHIJ':\n",
    "                    folder_counts[folder_name] += 1\n",
    "                \n",
    "for folder in 'ABCDEFGHIJ':\n",
    "    print(f'Класс {folder}: {folder_counts[folder]} объектов')\n",
    "    general_size += folder_counts[folder]\n",
    "    \n",
    "print(f'Общее количество: {general_size} объектов')"
   ]
  },
  {
   "cell_type": "markdown",
   "metadata": {},
   "source": [
    "Как видно, классы действительно являются сбалансированными"
   ]
  },
  {
   "cell_type": "markdown",
   "metadata": {},
   "source": [
    "**Задание 3** Разделите данные на три подвыборки: обучающую (200 тыс. изображений), валидационную (10 тыс. изображений) и контрольную (тестовую) (19 тыс. изображений)"
   ]
  },
  {
   "cell_type": "code",
   "execution_count": 4,
   "metadata": {},
   "outputs": [],
   "source": [
    "# Распаковка архива\n",
    "with tarfile.open(tar_path, 'r:gz') as tar:\n",
    "    tar.extractall(path='.')\n",
    "\n",
    "# Путь к распакованной папке\n",
    "\n",
    "# Словарь для хранения путей к изображениям по классам\n",
    "image_paths = defaultdict(list)\n",
    "\n",
    "# Считывание всех изображений из папок A-J\n",
    "for folder in os.listdir(tar_general_dir):\n",
    "    folder_path = os.path.join(tar_general_dir, folder)\n",
    "    if os.path.isdir(folder_path):\n",
    "        for img_file in os.listdir(folder_path):\n",
    "            image_paths[folder].append(os.path.join(folder_path, img_file))\n",
    "\n",
    "# Функция для разделения изображений на обучающий, валидационный и тестовый списки\n",
    "def split_data(image_paths, train_size, val_size, test_size):\n",
    "    train_list, val_list, test_list = [], [], []\n",
    "    for class_images in image_paths.values():\n",
    "        random.shuffle(class_images)\n",
    "        train_list.extend(class_images[:train_size])\n",
    "        val_list.extend(class_images[train_size:train_size + val_size])\n",
    "        test_list.extend(class_images[train_size + val_size:train_size + val_size + test_size])\n",
    "    return train_list, val_list, test_list\n",
    "\n",
    "# Определение размеров выборок\n",
    "total_images = 200000 + 10000 + 19000\n",
    "train_size = 200000 // 10\n",
    "val_size = 10000 // 10\n",
    "test_size = 19000 // 10\n",
    "\n",
    "# Разделение данных"
   ]
  },
  {
   "cell_type": "code",
   "execution_count": 5,
   "metadata": {},
   "outputs": [
    {
     "name": "stdout",
     "output_type": "stream",
     "text": [
      "Unprocessable entity\n",
      "Unprocessable entity\n"
     ]
    },
    {
     "name": "stderr",
     "output_type": "stream",
     "text": [
      "/home/relsa/Документы/projects/machine-learning/LR-1/venv/lib/python3.10/site-packages/sklearn/linear_model/_logistic.py:469: ConvergenceWarning: lbfgs failed to converge (status=1):\n",
      "STOP: TOTAL NO. of ITERATIONS REACHED LIMIT.\n",
      "\n",
      "Increase the number of iterations (max_iter) or scale the data as shown in:\n",
      "    https://scikit-learn.org/stable/modules/preprocessing.html\n",
      "Please also refer to the documentation for alternative solver options:\n",
      "    https://scikit-learn.org/stable/modules/linear_model.html#logistic-regression\n",
      "  n_iter_i = _check_optimize_result(\n"
     ]
    },
    {
     "name": "stdout",
     "output_type": "stream",
     "text": [
      "Точность модели на тестовом наборе: 0.83\n",
      "Точность модели на валидационном наборе: 0.85\n"
     ]
    }
   ],
   "source": [
    "train_list, val_list, test_list = split_data(image_paths, train_size, val_size, test_size)\n",
    "# Функция для загрузки изображений и преобразования их в массивы\n",
    "def load_images(image_list):\n",
    "    data = []\n",
    "    labels = []\n",
    "    for img_path in image_list:\n",
    "        try:\n",
    "            img = Image.open(img_path).convert('L')  # Преобразование в градации серого\n",
    "            img = img.resize((64, 64))  # Изменение размера изображения\n",
    "            img_array = np.array(img).flatten()  # Преобразование изображения в одномерный массив\n",
    "            data.append(img_array)\n",
    "            label = os.path.basename(os.path.dirname(img_path))  # Метка класса\n",
    "            labels.append(label)\n",
    "        except:\n",
    "            print(\"Unprocessable entity\")\n",
    "    return np.array(data), np.array(labels)\n",
    "\n",
    "# Загрузка данных\n",
    "train_data, train_labels = load_images(train_list)\n",
    "val_data, val_labels = load_images(val_list)\n",
    "test_data, test_labels = load_images(test_list)\n",
    "\n",
    "# Объединение обучающих и валидационных данных для обучения модели\n",
    "X_train = np.concatenate((train_data, val_data))\n",
    "y_train = np.concatenate((train_labels, val_labels))\n",
    "\n",
    "# Создание и обучение модели логистической регрессии\n",
    "model = LogisticRegression(max_iter=1000)\n",
    "model.fit(X_train, y_train)\n",
    "\n",
    "# Оценка модели на тестовом наборе\n",
    "y_pred = model.predict(test_data)\n",
    "accuracy = accuracy_score(test_labels, y_pred)\n",
    "print(f'Точность модели на тестовом наборе: {accuracy:.2f}')\n",
    "\n",
    "# Оценка модели на валидационном наборе\n",
    "y_val_pred = model.predict(val_data)\n",
    "val_accuracy = accuracy_score(val_labels, y_val_pred)\n",
    "print(f'Точность модели на валидационном наборе: {val_accuracy:.2f}')"
   ]
  }
 ],
 "metadata": {
  "kernelspec": {
   "display_name": "venv",
   "language": "python",
   "name": "python3"
  },
  "language_info": {
   "codemirror_mode": {
    "name": "ipython",
    "version": 3
   },
   "file_extension": ".py",
   "mimetype": "text/x-python",
   "name": "python",
   "nbconvert_exporter": "python",
   "pygments_lexer": "ipython3",
   "version": "3.10.12"
  }
 },
 "nbformat": 4,
 "nbformat_minor": 2
}
